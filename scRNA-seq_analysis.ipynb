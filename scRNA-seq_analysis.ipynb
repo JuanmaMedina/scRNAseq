{
 "cells": [
  {
   "cell_type": "markdown",
   "metadata": {},
   "source": [
    "# Analysis of single cell RNA-seq data"
   ]
  },
  {
   "cell_type": "markdown",
   "metadata": {},
   "source": [
    "This analysis is performed using a single cell from an mESC dataset produced by (Kolodziejczyk et al. 2015). The cells were sequenced using the SMART-seq2 library preparation protocol and the reads are paired end.\n",
    "\n",
    "From: https://hemberg-lab.github.io/scRNA.seq.course/"
   ]
  },
  {
   "cell_type": "markdown",
   "metadata": {},
   "source": [
    "List of utils / packages for this course:\n",
    "    - Base: https://github.com/hemberg-lab/scRNA.seq.course\n",
    "    - Linux / Python: https://github.com/hemberg-lab/scRNA.seq.course-base/blob/master/Dockerfile\n",
    "    - Bioconductor: https://github.com/hemberg-lab/scRNA.seq.course-R/blob/master/Dockerfile\n",
    "    "
   ]
  },
  {
   "cell_type": "markdown",
   "metadata": {},
   "source": [
    "## 1. Processing raw scRNA-seq data"
   ]
  },
  {
   "cell_type": "markdown",
   "metadata": {},
   "source": [
    "### 1.1. FastQC (1)"
   ]
  },
  {
   "cell_type": "raw",
   "metadata": {},
   "source": [
    "fastqc -o fastqc_results sample/ERR522959_1.fastq.gz sample/ERR522959_2.fastq.gz"
   ]
  },
  {
   "cell_type": "markdown",
   "metadata": {},
   "source": [
    "There is some contamination coming from Nextera adapters. Let´s remove them."
   ]
  },
  {
   "cell_type": "markdown",
   "metadata": {},
   "source": [
    "### 1.2. Adapter trimming (TrimGalore)"
   ]
  },
  {
   "cell_type": "raw",
   "metadata": {},
   "source": [
    "trim_galore --nextera -o fastqc_trimmed_results/ sample/ERR522959_1.fastq.gz sample/ERR522959_2.fastq.gz"
   ]
  },
  {
   "cell_type": "markdown",
   "metadata": {},
   "source": [
    "Check that adapters have been removed"
   ]
  },
  {
   "cell_type": "markdown",
   "metadata": {},
   "source": [
    "### 1.3. FastQC (2)"
   ]
  },
  {
   "cell_type": "raw",
   "metadata": {},
   "source": [
    "fastqc -o . ERR522959_1_trimmed.fq.gz ERR522959_2_trimmed.fq.gz"
   ]
  },
  {
   "cell_type": "markdown",
   "metadata": {},
   "source": [
    "## 2. Alignment (STAR)"
   ]
  },
  {
   "cell_type": "raw",
   "metadata": {},
   "source": [
    "### 2.1. Generate index (from .fasta and .gtf)"
   ]
  },
  {
   "cell_type": "raw",
   "metadata": {},
   "source": [
    "STAR --runMode genomeGenerate --genomeDir indices/STAR --genomeFastaFiles 2000_reference.transcripts.fa"
   ]
  },
  {
   "cell_type": "markdown",
   "metadata": {},
   "source": [
    "### 2.2. Align reads to genome (splice-aware)"
   ]
  },
  {
   "cell_type": "markdown",
   "metadata": {},
   "source": [
    "STAR --runMode alignReads --genomeDir indices/STAR --readFilesIn sample/ERR522959_1.fastq.gz sample/ERR522959_2.fastq.gz --readFilesCommand zcat--outFileNamePrefix results/STAR/"
   ]
  },
  {
   "cell_type": "markdown",
   "metadata": {},
   "source": [
    "## 3. Pseudoalignment (kallisto)"
   ]
  },
  {
   "cell_type": "markdown",
   "metadata": {},
   "source": [
    "### 3.1. Generate index (from .fasta)"
   ]
  },
  {
   "cell_type": "raw",
   "metadata": {},
   "source": [
    "kallisto index -i indices/Kallisto/transcripts.idx 2000_reference.transcripts.fa"
   ]
  },
  {
   "cell_type": "markdown",
   "metadata": {},
   "source": [
    "### 3.2. Pseudo-align reads to transcriptome\n",
    "\n",
    "NB: Run in same folder as batch.txt (with cell ID, .fastq1 and .fastq2) and .fastq files"
   ]
  },
  {
   "cell_type": "raw",
   "metadata": {},
   "source": [
    "kallisto pseudo -i ../indices/Kallisto/transcripts.idx -o ../results/Kallisto/ -b batch.txt"
   ]
  },
  {
   "cell_type": "markdown",
   "metadata": {},
   "source": [
    "## 4. Read quantification (featureCounts)"
   ]
  },
  {
   "cell_type": "raw",
   "metadata": {},
   "source": [
    "featureCounts -Q 30 -p -a my.gtf -o results/featureCounts/counts.txt results/STAR/Aligned.out.bam"
   ]
  }
 ],
 "metadata": {
  "kernelspec": {
   "display_name": "Python 3",
   "language": "python",
   "name": "python3"
  },
  "language_info": {
   "codemirror_mode": {
    "name": "ipython",
    "version": 3
   },
   "file_extension": ".py",
   "mimetype": "text/x-python",
   "name": "python",
   "nbconvert_exporter": "python",
   "pygments_lexer": "ipython3",
   "version": "3.7.1"
  }
 },
 "nbformat": 4,
 "nbformat_minor": 2
}
